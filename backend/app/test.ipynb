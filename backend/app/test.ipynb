{
 "cells": [
  {
   "cell_type": "code",
   "execution_count": 1,
   "metadata": {},
   "outputs": [],
   "source": [
    "test = {\n",
    "    \"1109\": {\n",
    "        \"complex_id\": \"1109\",\n",
    "        \"complex_name\": \"중계주공2단지\",\n",
    "        \"complex_num\": \"1800세대(총10개동)\",\n",
    "        \"complex_company\": \"한진종합건설(주)외\",\n",
    "        \"complex_addr\": \"서울시 노원구 중계동 369\",\n",
    "        \"complex_width\": [\n",
    "            \"59㎡\"\n",
    "        ]\n",
    "    }\n",
    "}"
   ]
  },
  {
   "cell_type": "code",
   "execution_count": 3,
   "metadata": {},
   "outputs": [
    {
     "data": {
      "text/plain": [
       "{'1109': {'complex_id': '1109',\n",
       "  'complex_name': '중계주공2단지',\n",
       "  'complex_num': '1800세대(총10개동)',\n",
       "  'complex_company': '한진종합건설(주)외',\n",
       "  'complex_addr': '서울시 노원구 중계동 369',\n",
       "  'complex_width': ['59㎡']}}"
      ]
     },
     "execution_count": 3,
     "metadata": {},
     "output_type": "execute_result"
    }
   ],
   "source": [
    "test\n"
   ]
  },
  {
   "cell_type": "code",
   "execution_count": 10,
   "metadata": {},
   "outputs": [
    {
     "data": {
      "text/plain": [
       "{'1109': {'complex_name': '중계주공2단지',\n",
       "  'complex_num': '1800세대(총10개동)',\n",
       "  'complex_company': '한진종합건설(주)외',\n",
       "  'complex_addr': '서울시 노원구 중계동 369',\n",
       "  'complex_width': ['59㎡']},\n",
       " 'date': datetime.datetime(2024, 8, 16, 20, 33, 22, 217455)}"
      ]
     },
     "execution_count": 10,
     "metadata": {},
     "output_type": "execute_result"
    }
   ],
   "source": [
    "test"
   ]
  },
  {
   "cell_type": "code",
   "execution_count": 8,
   "metadata": {},
   "outputs": [],
   "source": [
    "from datetime import datetime\n",
    "\n",
    "# 현재 날짜 가져오기\n",
    "current_date = datetime.now()"
   ]
  },
  {
   "cell_type": "code",
   "execution_count": 7,
   "metadata": {},
   "outputs": [
    {
     "data": {
      "text/plain": [
       "datetime.datetime(2024, 8, 16, 20, 32, 5, 900602)"
      ]
     },
     "execution_count": 7,
     "metadata": {},
     "output_type": "execute_result"
    }
   ],
   "source": [
    "current_date"
   ]
  },
  {
   "cell_type": "code",
   "execution_count": null,
   "metadata": {},
   "outputs": [],
   "source": []
  }
 ],
 "metadata": {
  "kernelspec": {
   "display_name": "venv",
   "language": "python",
   "name": "python3"
  },
  "language_info": {
   "codemirror_mode": {
    "name": "ipython",
    "version": 3
   },
   "file_extension": ".py",
   "mimetype": "text/x-python",
   "name": "python",
   "nbconvert_exporter": "python",
   "pygments_lexer": "ipython3",
   "version": "3.10.11"
  }
 },
 "nbformat": 4,
 "nbformat_minor": 2
}
