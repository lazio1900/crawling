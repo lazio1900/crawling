{
 "cells": [
  {
   "cell_type": "code",
   "execution_count": 17,
   "metadata": {},
   "outputs": [],
   "source": [
    "### load package\n",
    "from selenium import webdriver\n",
    "from selenium.webdriver.common.keys import Keys\n",
    "from selenium.webdriver.common.by import By\n",
    "from selenium.common.exceptions import NoSuchElementException, WebDriverException, ElementClickInterceptedException\n",
    "import time\n",
    "import re\n",
    "from sqlalchemy.orm import Session\n",
    "from datetime import datetime\n",
    "from database import SessionLocal\n"
   ]
  },
  {
   "cell_type": "code",
   "execution_count": 2,
   "metadata": {},
   "outputs": [],
   "source": [
    "\n",
    "### 전체 평수 구하기 함수\n",
    "def all_width_make(driver):\n",
    "    detail_sorting_width = driver.find_element(By.XPATH, '//*[@id=\"detailContents1\"]/div[1]/table/tbody/tr[8]/td/div/div')\n",
    "    all_width_str = detail_sorting_width.text\n",
    "    width_list = [item.strip() for item in all_width_str.split(',')]\n",
    "    try:\n",
    "        driver.find_element(By.XPATH, '//*[@id=\"detailContents1\"]/div[2]/div[2]/div/div[2]/button').click()\n",
    "    except:\n",
    "        pass\n",
    "    return width_list\n",
    "\n",
    "### 단지 내 면적별 정보 클릭하고 '매매', '전세', '월세', '단기' 값 추출 함수\n",
    "def all_width_value_make(driver, i):\n",
    "    tab_id = f\"tab{i}\"\n",
    "    tab_element = driver.find_element(By.ID, tab_id)\n",
    "    time.sleep(2)\n",
    "    tab_element.click()\n",
    "    info_table_item = driver.find_element(By.XPATH, '//*[@id=\"tabpanel\"]/table/tbody/tr[5]')\n",
    "    data_elements = info_table_item.find_elements(By.CLASS_NAME, 'data')\n",
    "    results = []\n",
    "    for data in data_elements:\n",
    "        value = data.find_element(By.CLASS_NAME, 'point2').text\n",
    "        results.append(value)\n",
    "    return results\n",
    "\n",
    "### 단지 ID로 URL 생성\n",
    "# 단지 ID 는 url에 포함된 단지 ID 사용\n",
    "# ex)\n",
    "# https://new.land.naver.com/complexes/{complex_id}?ms=37.498319,127.0413807,16&a=APT:PRE:ABYG:JGC&e=RETAIL&ad=true\n",
    "def make_url(complex_id):\n",
    "    complex_id = complex_id\n",
    "    url = f\"https://new.land.naver.com/complexes/{complex_id}?ms=37.498319,127.0413807,16&a=APT:PRE:ABYG:JGC&e=RETAIL&ad=true\"\n",
    "    return url\n",
    "\n",
    "# 단지별 디테일 크롤링 (평수별 매매 수 등)\n",
    "def crawl_widthes_sales_info(complex_id):\n",
    "    options = webdriver.ChromeOptions()\n",
    "    options.add_argument(\"--headless\")\n",
    "    options.add_argument(\"user-agent=Mozilla/5.0 (Windows NT 10.0; Win64; x64) AppleWebKit/537.36 (KHTML, like Gecko) Chrome/126.0.6478.114 Safari/537.36\")\n",
    "    options.add_argument('--disable-blink-features=AutomationControlled')\n",
    "    options.add_experimental_option('excludeSwitches', ['enable-logging', 'enable-automation'])\n",
    "    options.add_experimental_option(\"useAutomationExtension\", False)\n",
    "\n",
    "    # 크롤링 메타 정보부터 만들기\n",
    "    crawl_meta_result = {}\n",
    "    \n",
    "    crawl_meta_result[complex_id] = {\n",
    "        \"execution_date\": datetime.now(),\n",
    "        \"complex_id\": complex_id,\n",
    "        \"status\": 'pending',\n",
    "        \"attempt_count\": 0,\n",
    "    }\n",
    "\n",
    "    # 평수별 매매 수 등 정보 크롤링\n",
    "    detail_result = {}\n",
    "\n",
    "    url = make_url(complex_id)\n",
    "\n",
    "    success = False  # 성공 여부를 추적\n",
    "\n",
    "    for attempt in range(1, 4):\n",
    "        try:\n",
    "            crawl_meta_result[complex_id][\"attempt_count\"] = attempt\n",
    "            driver = webdriver.Chrome(options=options)\n",
    "            # driver = webdriver.Chrome()\n",
    "            driver.get(url)\n",
    "            time.sleep(5)\n",
    "\n",
    "            # 단지정보 열기\n",
    "            complex_btn = driver.find_element(By.CLASS_NAME, 'complex_link')\n",
    "            complex_btn.click()\n",
    "            time.sleep(1)\n",
    "\n",
    "            # 평수 목록\n",
    "            complex_width = all_width_make(driver)\n",
    "\n",
    "            # 평수 만큼 정보 크롤링 반복\n",
    "            width_sales_res = {}\n",
    "            for idx, complex_width_ in enumerate(complex_width):\n",
    "\n",
    "                tab_num = \"tab\" + str(idx)\n",
    "                width_btn = driver.find_element(By.XPATH, f'//*[@id={tab_num}]/span')\n",
    "                width_btn.click()\n",
    "                    \n",
    "                # 매매 수\n",
    "                sales_count = driver.find_element(By.XPATH, '//*[@id=\"tabpanel\"]/table/tbody/tr[5]/td/a[1]/span')\n",
    "                sales_count_str = sales_count.text\n",
    "\n",
    "                # 전세 수\n",
    "                lease_count = driver.find_element(By.XPATH, '//*[@id=\"tabpanel\"]/table/tbody/tr[5]/td/a[2]/span')\n",
    "                lease_count_str = lease_count.text\n",
    "                \n",
    "                # 월세 수\n",
    "                monthly_rent_count = driver.find_element(By.XPATH, '//*[@id=\"tabpanel\"]/table/tbody/tr[5]/td/a[3]/span')\n",
    "                monthly_rent_count_str = monthly_rent_count.text\n",
    "\n",
    "                # 단기 수\n",
    "                short_term_rent_count = driver.find_element(By.XPATH, '//*[@id=\"tabpanel\"]/table/tbody/tr[5]/td/a[4]/span')\n",
    "                short_term_rent_count_str = short_term_rent_count.text\n",
    "\n",
    "                width_sales_res[complex_width_] = {\n",
    "                    \"complex_width\": complex_width,\n",
    "                    \"sales_count\": sales_count_str,\n",
    "                    \"lease_count\": lease_count_str,\n",
    "                    \"monthly_rent_count\": monthly_rent_count_str,\n",
    "                    \"short_term_rent_count\": short_term_rent_count_str,            \n",
    "\n",
    "                }\n",
    "                \n",
    "            # 크롤링이 성공했을 경우\n",
    "            success = True\n",
    "            detail_result = width_sales_res\n",
    "            crawl_meta_result[complex_id][\"status\"] = \"success\"\n",
    "            break  # 성공했으므로 반복 종료\n",
    "\n",
    "        except (NoSuchElementException, WebDriverException, ElementClickInterceptedException) as e:\n",
    "            print(f\"에러 발생: {e}\")\n",
    "            # 에러 발생 시에도 계속 시도\n",
    "\n",
    "        \n",
    "        finally:\n",
    "            if driver:\n",
    "                driver.quit()\n",
    "\n",
    "        # 3회 시도 후에도 실패한 경우\n",
    "    if not success:\n",
    "        crawl_meta_result[complex_id][\"status\"] = \"failed\"\n",
    "\n",
    "    return crawl_meta_result, detail_result\n"
   ]
  },
  {
   "cell_type": "code",
   "execution_count": 3,
   "metadata": {},
   "outputs": [],
   "source": [
    "complex_id = 1"
   ]
  },
  {
   "cell_type": "code",
   "execution_count": 4,
   "metadata": {},
   "outputs": [
    {
     "name": "stdout",
     "output_type": "stream",
     "text": [
      "에러 발생: Message: no such element: Unable to locate element: {\"method\":\"xpath\",\"selector\":\"//*[@id=tab0]/span\"}\n",
      "  (Session info: chrome-headless-shell=123.0.6312.88); For documentation on this error, please visit: https://www.selenium.dev/documentation/webdriver/troubleshooting/errors#no-such-element-exception\n",
      "Stacktrace:\n",
      "\tGetHandleVerifier [0x00007FF6437D7032+63090]\n",
      "\t(No symbol) [0x00007FF643742C82]\n",
      "\t(No symbol) [0x00007FF6435DEC65]\n",
      "\t(No symbol) [0x00007FF64362499D]\n",
      "\t(No symbol) [0x00007FF643624ADC]\n",
      "\t(No symbol) [0x00007FF643665B37]\n",
      "\t(No symbol) [0x00007FF64364701F]\n",
      "\t(No symbol) [0x00007FF643663412]\n",
      "\t(No symbol) [0x00007FF643646D83]\n",
      "\t(No symbol) [0x00007FF6436183A8]\n",
      "\t(No symbol) [0x00007FF643619441]\n",
      "\tGetHandleVerifier [0x00007FF643BD25AD+4238317]\n",
      "\tGetHandleVerifier [0x00007FF643C0F70D+4488525]\n",
      "\tGetHandleVerifier [0x00007FF643C079EF+4456495]\n",
      "\tGetHandleVerifier [0x00007FF6438B0576+953270]\n",
      "\t(No symbol) [0x00007FF64374E54F]\n",
      "\t(No symbol) [0x00007FF643749224]\n",
      "\t(No symbol) [0x00007FF64374935B]\n",
      "\t(No symbol) [0x00007FF643739B94]\n",
      "\tBaseThreadInitThunk [0x00007FFCDDB17374+20]\n",
      "\tRtlUserThreadStart [0x00007FFCDF7BCC91+33]\n",
      "\n",
      "에러 발생: Message: no such element: Unable to locate element: {\"method\":\"xpath\",\"selector\":\"//*[@id=tab0]/span\"}\n",
      "  (Session info: chrome-headless-shell=123.0.6312.88); For documentation on this error, please visit: https://www.selenium.dev/documentation/webdriver/troubleshooting/errors#no-such-element-exception\n",
      "Stacktrace:\n",
      "\tGetHandleVerifier [0x00007FF6437D7032+63090]\n",
      "\t(No symbol) [0x00007FF643742C82]\n",
      "\t(No symbol) [0x00007FF6435DEC65]\n",
      "\t(No symbol) [0x00007FF64362499D]\n",
      "\t(No symbol) [0x00007FF643624ADC]\n",
      "\t(No symbol) [0x00007FF643665B37]\n",
      "\t(No symbol) [0x00007FF64364701F]\n",
      "\t(No symbol) [0x00007FF643663412]\n",
      "\t(No symbol) [0x00007FF643646D83]\n",
      "\t(No symbol) [0x00007FF6436183A8]\n",
      "\t(No symbol) [0x00007FF643619441]\n",
      "\tGetHandleVerifier [0x00007FF643BD25AD+4238317]\n",
      "\tGetHandleVerifier [0x00007FF643C0F70D+4488525]\n",
      "\tGetHandleVerifier [0x00007FF643C079EF+4456495]\n",
      "\tGetHandleVerifier [0x00007FF6438B0576+953270]\n",
      "\t(No symbol) [0x00007FF64374E54F]\n",
      "\t(No symbol) [0x00007FF643749224]\n",
      "\t(No symbol) [0x00007FF64374935B]\n",
      "\t(No symbol) [0x00007FF643739B94]\n",
      "\tBaseThreadInitThunk [0x00007FFCDDB17374+20]\n",
      "\tRtlUserThreadStart [0x00007FFCDF7BCC91+33]\n",
      "\n",
      "에러 발생: Message: no such element: Unable to locate element: {\"method\":\"xpath\",\"selector\":\"//*[@id=tab0]/span\"}\n",
      "  (Session info: chrome-headless-shell=123.0.6312.88); For documentation on this error, please visit: https://www.selenium.dev/documentation/webdriver/troubleshooting/errors#no-such-element-exception\n",
      "Stacktrace:\n",
      "\tGetHandleVerifier [0x00007FF6437D7032+63090]\n",
      "\t(No symbol) [0x00007FF643742C82]\n",
      "\t(No symbol) [0x00007FF6435DEC65]\n",
      "\t(No symbol) [0x00007FF64362499D]\n",
      "\t(No symbol) [0x00007FF643624ADC]\n",
      "\t(No symbol) [0x00007FF643665B37]\n",
      "\t(No symbol) [0x00007FF64364701F]\n",
      "\t(No symbol) [0x00007FF643663412]\n",
      "\t(No symbol) [0x00007FF643646D83]\n",
      "\t(No symbol) [0x00007FF6436183A8]\n",
      "\t(No symbol) [0x00007FF643619441]\n",
      "\tGetHandleVerifier [0x00007FF643BD25AD+4238317]\n",
      "\tGetHandleVerifier [0x00007FF643C0F70D+4488525]\n",
      "\tGetHandleVerifier [0x00007FF643C079EF+4456495]\n",
      "\tGetHandleVerifier [0x00007FF6438B0576+953270]\n",
      "\t(No symbol) [0x00007FF64374E54F]\n",
      "\t(No symbol) [0x00007FF643749224]\n",
      "\t(No symbol) [0x00007FF64374935B]\n",
      "\t(No symbol) [0x00007FF643739B94]\n",
      "\tBaseThreadInitThunk [0x00007FFCDDB17374+20]\n",
      "\tRtlUserThreadStart [0x00007FFCDF7BCC91+33]\n",
      "\n"
     ]
    },
    {
     "data": {
      "text/plain": [
       "({1: {'execution_date': datetime.datetime(2024, 9, 21, 16, 52, 9, 166519),\n",
       "   'complex_id': 1,\n",
       "   'status': 'failed',\n",
       "   'attempt_count': 3}},\n",
       " {})"
      ]
     },
     "execution_count": 4,
     "metadata": {},
     "output_type": "execute_result"
    }
   ],
   "source": [
    "crawl_widthes_sales_info(complex_id)"
   ]
  },
  {
   "cell_type": "code",
   "execution_count": 5,
   "metadata": {},
   "outputs": [],
   "source": [
    "    # 크롤링 메타 정보부터 만들기\n",
    "    crawl_meta_result = {}\n",
    "    \n",
    "    crawl_meta_result[complex_id] = {\n",
    "        \"execution_date\": datetime.now(),\n",
    "        \"complex_id\": complex_id,\n",
    "        \"status\": 'pending',\n",
    "        \"attempt_count\": 0,\n",
    "    }"
   ]
  },
  {
   "cell_type": "code",
   "execution_count": 7,
   "metadata": {},
   "outputs": [],
   "source": [
    "    # 평수별 매매 수 등 정보 크롤링\n",
    "    detail_result = {}\n",
    "\n",
    "    url = make_url(complex_id)\n",
    "\n",
    "    success = False  # 성공 여부를 추적"
   ]
  },
  {
   "cell_type": "code",
   "execution_count": 15,
   "metadata": {},
   "outputs": [],
   "source": [
    "for attempt in range(1, 4):\n",
    "    try:\n",
    "        crawl_meta_result[complex_id][\"attempt_count\"] = attempt\n",
    "        driver = webdriver.Chrome()\n",
    "        # driver = webdriver.Chrome()\n",
    "        driver.get(url)\n",
    "        time.sleep(5)\n",
    "\n",
    "        # 단지정보 열기\n",
    "        complex_btn = driver.find_element(By.CLASS_NAME, 'complex_link')\n",
    "        complex_btn.click()\n",
    "        time.sleep(1)\n",
    "\n",
    "        # 평수 목록\n",
    "        complex_width = all_width_make(driver)\n",
    "\n",
    "        # 평수 만큼 정보 크롤링 반복\n",
    "        width_sales_res = {}\n",
    "        for idx, complex_width_ in enumerate(complex_width):\n",
    "\n",
    "            tab_num = \"tab\" + str(idx)\n",
    "            width_btn = driver.find_element(By.XPATH, f'//*[@id=\"{tab_num}\"]/span')\n",
    "            width_btn.click()\n",
    "                \n",
    "            # 매매 수\n",
    "            sales_count = driver.find_element(By.XPATH, '//*[@id=\"tabpanel\"]/table/tbody/tr[5]/td/a[1]/span')\n",
    "            sales_count_str = sales_count.text\n",
    "\n",
    "            # 전세 수\n",
    "            lease_count = driver.find_element(By.XPATH, '//*[@id=\"tabpanel\"]/table/tbody/tr[5]/td/a[2]/span')\n",
    "            lease_count_str = lease_count.text\n",
    "            \n",
    "            # 월세 수\n",
    "            monthly_rent_count = driver.find_element(By.XPATH, '//*[@id=\"tabpanel\"]/table/tbody/tr[5]/td/a[3]/span')\n",
    "            monthly_rent_count_str = monthly_rent_count.text\n",
    "\n",
    "            # 단기 수\n",
    "            short_term_rent_count = driver.find_element(By.XPATH, '//*[@id=\"tabpanel\"]/table/tbody/tr[5]/td/a[4]/span')\n",
    "            short_term_rent_count_str = short_term_rent_count.text\n",
    "\n",
    "            width_sales_res[complex_width_] = {\n",
    "                \"complex_width\": complex_width,\n",
    "                \"sales_count\": sales_count_str,\n",
    "                \"lease_count\": lease_count_str,\n",
    "                \"monthly_rent_count\": monthly_rent_count_str,\n",
    "                \"short_term_rent_count\": short_term_rent_count_str,            \n",
    "\n",
    "            }\n",
    "\n",
    "    except (NoSuchElementException, WebDriverException, ElementClickInterceptedException) as e:\n",
    "        print(f\"에러 발생: {e}\")\n",
    "        # 에러 발생 시에도 계속 시도"
   ]
  },
  {
   "cell_type": "code",
   "execution_count": 16,
   "metadata": {},
   "outputs": [
    {
     "data": {
      "text/plain": [
       "{'82㎡': {'complex_width': ['82㎡', '89㎡', '103㎡', '104㎡'],\n",
       "  'sales_count': '7',\n",
       "  'lease_count': '0',\n",
       "  'monthly_rent_count': '0',\n",
       "  'short_term_rent_count': '0'},\n",
       " '89㎡': {'complex_width': ['82㎡', '89㎡', '103㎡', '104㎡'],\n",
       "  'sales_count': '2',\n",
       "  'lease_count': '1',\n",
       "  'monthly_rent_count': '0',\n",
       "  'short_term_rent_count': '0'},\n",
       " '103㎡': {'complex_width': ['82㎡', '89㎡', '103㎡', '104㎡'],\n",
       "  'sales_count': '8',\n",
       "  'lease_count': '5',\n",
       "  'monthly_rent_count': '0',\n",
       "  'short_term_rent_count': '0'},\n",
       " '104㎡': {'complex_width': ['82㎡', '89㎡', '103㎡', '104㎡'],\n",
       "  'sales_count': '1',\n",
       "  'lease_count': '4',\n",
       "  'monthly_rent_count': '0',\n",
       "  'short_term_rent_count': '0'}}"
      ]
     },
     "execution_count": 16,
     "metadata": {},
     "output_type": "execute_result"
    }
   ],
   "source": [
    "width_sales_res"
   ]
  },
  {
   "cell_type": "code",
   "execution_count": 11,
   "metadata": {},
   "outputs": [],
   "source": [
    "idx = 0"
   ]
  },
  {
   "cell_type": "code",
   "execution_count": 12,
   "metadata": {},
   "outputs": [],
   "source": [
    "tab_num = \"tab\" + str(idx)\n"
   ]
  },
  {
   "cell_type": "code",
   "execution_count": 13,
   "metadata": {},
   "outputs": [
    {
     "data": {
      "text/plain": [
       "'tab0'"
      ]
     },
     "execution_count": 13,
     "metadata": {},
     "output_type": "execute_result"
    }
   ],
   "source": [
    "tab_num\n",
    "\n",
    "//*[@id=\"tab0\"]/span"
   ]
  },
  {
   "cell_type": "code",
   "execution_count": 14,
   "metadata": {},
   "outputs": [
    {
     "ename": "NoSuchElementException",
     "evalue": "Message: no such element: Unable to locate element: {\"method\":\"xpath\",\"selector\":\"//*[@id=tab0]/span\"}\n  (Session info: chrome=123.0.6312.88); For documentation on this error, please visit: https://www.selenium.dev/documentation/webdriver/troubleshooting/errors#no-such-element-exception\nStacktrace:\n\tGetHandleVerifier [0x00007FF6437D7032+63090]\n\t(No symbol) [0x00007FF643742C82]\n\t(No symbol) [0x00007FF6435DEC65]\n\t(No symbol) [0x00007FF64362499D]\n\t(No symbol) [0x00007FF643624ADC]\n\t(No symbol) [0x00007FF643665B37]\n\t(No symbol) [0x00007FF64364701F]\n\t(No symbol) [0x00007FF643663412]\n\t(No symbol) [0x00007FF643646D83]\n\t(No symbol) [0x00007FF6436183A8]\n\t(No symbol) [0x00007FF643619441]\n\tGetHandleVerifier [0x00007FF643BD25AD+4238317]\n\tGetHandleVerifier [0x00007FF643C0F70D+4488525]\n\tGetHandleVerifier [0x00007FF643C079EF+4456495]\n\tGetHandleVerifier [0x00007FF6438B0576+953270]\n\t(No symbol) [0x00007FF64374E54F]\n\t(No symbol) [0x00007FF643749224]\n\t(No symbol) [0x00007FF64374935B]\n\t(No symbol) [0x00007FF643739B94]\n\tBaseThreadInitThunk [0x00007FFCDDB17374+20]\n\tRtlUserThreadStart [0x00007FFCDF7BCC91+33]\n",
     "output_type": "error",
     "traceback": [
      "\u001b[1;31m---------------------------------------------------------------------------\u001b[0m",
      "\u001b[1;31mNoSuchElementException\u001b[0m                    Traceback (most recent call last)",
      "Cell \u001b[1;32mIn[14], line 1\u001b[0m\n\u001b[1;32m----> 1\u001b[0m width_btn \u001b[38;5;241m=\u001b[39m \u001b[43mdriver\u001b[49m\u001b[38;5;241;43m.\u001b[39;49m\u001b[43mfind_element\u001b[49m\u001b[43m(\u001b[49m\u001b[43mBy\u001b[49m\u001b[38;5;241;43m.\u001b[39;49m\u001b[43mXPATH\u001b[49m\u001b[43m,\u001b[49m\u001b[43m \u001b[49m\u001b[38;5;124;43mf\u001b[39;49m\u001b[38;5;124;43m'\u001b[39;49m\u001b[38;5;124;43m//*[@id=\u001b[39;49m\u001b[38;5;132;43;01m{\u001b[39;49;00m\u001b[43mtab_num\u001b[49m\u001b[38;5;132;43;01m}\u001b[39;49;00m\u001b[38;5;124;43m]/span\u001b[39;49m\u001b[38;5;124;43m'\u001b[39;49m\u001b[43m)\u001b[49m\n",
      "File \u001b[1;32mc:\\Python\\Python310\\lib\\site-packages\\selenium\\webdriver\\remote\\webdriver.py:748\u001b[0m, in \u001b[0;36mWebDriver.find_element\u001b[1;34m(self, by, value)\u001b[0m\n\u001b[0;32m    745\u001b[0m     by \u001b[38;5;241m=\u001b[39m By\u001b[38;5;241m.\u001b[39mCSS_SELECTOR\n\u001b[0;32m    746\u001b[0m     value \u001b[38;5;241m=\u001b[39m \u001b[38;5;124mf\u001b[39m\u001b[38;5;124m'\u001b[39m\u001b[38;5;124m[name=\u001b[39m\u001b[38;5;124m\"\u001b[39m\u001b[38;5;132;01m{\u001b[39;00mvalue\u001b[38;5;132;01m}\u001b[39;00m\u001b[38;5;124m\"\u001b[39m\u001b[38;5;124m]\u001b[39m\u001b[38;5;124m'\u001b[39m\n\u001b[1;32m--> 748\u001b[0m \u001b[38;5;28;01mreturn\u001b[39;00m \u001b[38;5;28;43mself\u001b[39;49m\u001b[38;5;241;43m.\u001b[39;49m\u001b[43mexecute\u001b[49m\u001b[43m(\u001b[49m\u001b[43mCommand\u001b[49m\u001b[38;5;241;43m.\u001b[39;49m\u001b[43mFIND_ELEMENT\u001b[49m\u001b[43m,\u001b[49m\u001b[43m \u001b[49m\u001b[43m{\u001b[49m\u001b[38;5;124;43m\"\u001b[39;49m\u001b[38;5;124;43musing\u001b[39;49m\u001b[38;5;124;43m\"\u001b[39;49m\u001b[43m:\u001b[49m\u001b[43m \u001b[49m\u001b[43mby\u001b[49m\u001b[43m,\u001b[49m\u001b[43m \u001b[49m\u001b[38;5;124;43m\"\u001b[39;49m\u001b[38;5;124;43mvalue\u001b[39;49m\u001b[38;5;124;43m\"\u001b[39;49m\u001b[43m:\u001b[49m\u001b[43m \u001b[49m\u001b[43mvalue\u001b[49m\u001b[43m}\u001b[49m\u001b[43m)\u001b[49m[\u001b[38;5;124m\"\u001b[39m\u001b[38;5;124mvalue\u001b[39m\u001b[38;5;124m\"\u001b[39m]\n",
      "File \u001b[1;32mc:\\Python\\Python310\\lib\\site-packages\\selenium\\webdriver\\remote\\webdriver.py:354\u001b[0m, in \u001b[0;36mWebDriver.execute\u001b[1;34m(self, driver_command, params)\u001b[0m\n\u001b[0;32m    352\u001b[0m response \u001b[38;5;241m=\u001b[39m \u001b[38;5;28mself\u001b[39m\u001b[38;5;241m.\u001b[39mcommand_executor\u001b[38;5;241m.\u001b[39mexecute(driver_command, params)\n\u001b[0;32m    353\u001b[0m \u001b[38;5;28;01mif\u001b[39;00m response:\n\u001b[1;32m--> 354\u001b[0m     \u001b[38;5;28;43mself\u001b[39;49m\u001b[38;5;241;43m.\u001b[39;49m\u001b[43merror_handler\u001b[49m\u001b[38;5;241;43m.\u001b[39;49m\u001b[43mcheck_response\u001b[49m\u001b[43m(\u001b[49m\u001b[43mresponse\u001b[49m\u001b[43m)\u001b[49m\n\u001b[0;32m    355\u001b[0m     response[\u001b[38;5;124m\"\u001b[39m\u001b[38;5;124mvalue\u001b[39m\u001b[38;5;124m\"\u001b[39m] \u001b[38;5;241m=\u001b[39m \u001b[38;5;28mself\u001b[39m\u001b[38;5;241m.\u001b[39m_unwrap_value(response\u001b[38;5;241m.\u001b[39mget(\u001b[38;5;124m\"\u001b[39m\u001b[38;5;124mvalue\u001b[39m\u001b[38;5;124m\"\u001b[39m, \u001b[38;5;28;01mNone\u001b[39;00m))\n\u001b[0;32m    356\u001b[0m     \u001b[38;5;28;01mreturn\u001b[39;00m response\n",
      "File \u001b[1;32mc:\\Python\\Python310\\lib\\site-packages\\selenium\\webdriver\\remote\\errorhandler.py:229\u001b[0m, in \u001b[0;36mErrorHandler.check_response\u001b[1;34m(self, response)\u001b[0m\n\u001b[0;32m    227\u001b[0m         alert_text \u001b[38;5;241m=\u001b[39m value[\u001b[38;5;124m\"\u001b[39m\u001b[38;5;124malert\u001b[39m\u001b[38;5;124m\"\u001b[39m]\u001b[38;5;241m.\u001b[39mget(\u001b[38;5;124m\"\u001b[39m\u001b[38;5;124mtext\u001b[39m\u001b[38;5;124m\"\u001b[39m)\n\u001b[0;32m    228\u001b[0m     \u001b[38;5;28;01mraise\u001b[39;00m exception_class(message, screen, stacktrace, alert_text)  \u001b[38;5;66;03m# type: ignore[call-arg]  # mypy is not smart enough here\u001b[39;00m\n\u001b[1;32m--> 229\u001b[0m \u001b[38;5;28;01mraise\u001b[39;00m exception_class(message, screen, stacktrace)\n",
      "\u001b[1;31mNoSuchElementException\u001b[0m: Message: no such element: Unable to locate element: {\"method\":\"xpath\",\"selector\":\"//*[@id=tab0]/span\"}\n  (Session info: chrome=123.0.6312.88); For documentation on this error, please visit: https://www.selenium.dev/documentation/webdriver/troubleshooting/errors#no-such-element-exception\nStacktrace:\n\tGetHandleVerifier [0x00007FF6437D7032+63090]\n\t(No symbol) [0x00007FF643742C82]\n\t(No symbol) [0x00007FF6435DEC65]\n\t(No symbol) [0x00007FF64362499D]\n\t(No symbol) [0x00007FF643624ADC]\n\t(No symbol) [0x00007FF643665B37]\n\t(No symbol) [0x00007FF64364701F]\n\t(No symbol) [0x00007FF643663412]\n\t(No symbol) [0x00007FF643646D83]\n\t(No symbol) [0x00007FF6436183A8]\n\t(No symbol) [0x00007FF643619441]\n\tGetHandleVerifier [0x00007FF643BD25AD+4238317]\n\tGetHandleVerifier [0x00007FF643C0F70D+4488525]\n\tGetHandleVerifier [0x00007FF643C079EF+4456495]\n\tGetHandleVerifier [0x00007FF6438B0576+953270]\n\t(No symbol) [0x00007FF64374E54F]\n\t(No symbol) [0x00007FF643749224]\n\t(No symbol) [0x00007FF64374935B]\n\t(No symbol) [0x00007FF643739B94]\n\tBaseThreadInitThunk [0x00007FFCDDB17374+20]\n\tRtlUserThreadStart [0x00007FFCDF7BCC91+33]\n"
     ]
    }
   ],
   "source": [
    "width_btn = driver.find_element(By.XPATH, f'//*[@id={tab_num}]/span')\n"
   ]
  },
  {
   "cell_type": "code",
   "execution_count": null,
   "metadata": {},
   "outputs": [],
   "source": [
    "\n",
    "            width_btn.click()"
   ]
  }
 ],
 "metadata": {
  "kernelspec": {
   "display_name": "venv",
   "language": "python",
   "name": "python3"
  },
  "language_info": {
   "codemirror_mode": {
    "name": "ipython",
    "version": 3
   },
   "file_extension": ".py",
   "mimetype": "text/x-python",
   "name": "python",
   "nbconvert_exporter": "python",
   "pygments_lexer": "ipython3",
   "version": "3.10.10"
  }
 },
 "nbformat": 4,
 "nbformat_minor": 2
}
