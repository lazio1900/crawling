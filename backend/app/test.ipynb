{
 "cells": [
  {
   "cell_type": "code",
   "execution_count": 53,
   "metadata": {},
   "outputs": [],
   "source": [
    "### load package\n",
    "from selenium import webdriver\n",
    "from selenium.webdriver.common.keys import Keys\n",
    "from selenium.webdriver.common.by import By\n",
    "import time\n",
    "import re\n",
    "from sqlalchemy.orm import Session\n",
    "from datetime import datetime\n",
    "from database import SessionLocal"
   ]
  },
  {
   "cell_type": "code",
   "execution_count": 55,
   "metadata": {},
   "outputs": [],
   "source": [
    "def make_url(complex_id):\n",
    "    complex_id = complex_id\n",
    "    url = f\"https://new.land.naver.com/complexes/{complex_id}?ms=37.498319,127.0413807,16&a=APT:PRE:ABYG:JGC&e=RETAIL&ad=true\"\n",
    "    return url"
   ]
  },
  {
   "cell_type": "code",
   "execution_count": 56,
   "metadata": {},
   "outputs": [],
   "source": [
    "def all_width_make(driver):\n",
    "    detail_sorting_width = driver.find_element(By.XPATH, '//*[@id=\"detailContents1\"]/div[1]/table/tbody/tr[8]/td/div/div')\n",
    "    all_width_str = detail_sorting_width.text\n",
    "    width_list = [item.strip() for item in all_width_str.split(',')]\n",
    "    try:\n",
    "        driver.find_element(By.XPATH, '//*[@id=\"detailContents1\"]/div[2]/div[2]/div/div[2]/button').click()\n",
    "    except:\n",
    "        pass\n",
    "    return width_list"
   ]
  },
  {
   "cell_type": "code",
   "execution_count": 57,
   "metadata": {},
   "outputs": [],
   "source": [
    "complex_id = 1"
   ]
  },
  {
   "cell_type": "code",
   "execution_count": 58,
   "metadata": {},
   "outputs": [],
   "source": [
    "# 평수별 매매 수 등 정보 크롤링\n",
    "detail_result = {}\n",
    "\n",
    "url = make_url(complex_id)\n"
   ]
  },
  {
   "cell_type": "code",
   "execution_count": 59,
   "metadata": {},
   "outputs": [],
   "source": [
    "\n",
    "# driver = webdriver.Chrome(options=options)\n",
    "driver = webdriver.Chrome()\n",
    "driver.get(url)\n",
    "time.sleep(5)\n",
    "\n",
    "# 단지정보 열기\n",
    "complex_btn = driver.find_element(By.CLASS_NAME, 'complex_link')\n",
    "complex_btn.click()\n",
    "time.sleep(1)\n"
   ]
  },
  {
   "cell_type": "code",
   "execution_count": 61,
   "metadata": {},
   "outputs": [
    {
     "data": {
      "text/plain": [
       "['82㎡', '89㎡', '103㎡', '104㎡']"
      ]
     },
     "execution_count": 61,
     "metadata": {},
     "output_type": "execute_result"
    }
   ],
   "source": [
    "\n",
    "# 평수 목록\n",
    "complex_width = all_width_make(driver)\n",
    "complex_width"
   ]
  },
  {
   "cell_type": "code",
   "execution_count": 66,
   "metadata": {},
   "outputs": [
    {
     "name": "stdout",
     "output_type": "stream",
     "text": [
      "8\n"
     ]
    }
   ],
   "source": [
    "\n",
    "# 평수 만큼 정보 크롤링 반복\n",
    "width_sales_res = {}\n",
    "for idx, complex_width_ in enumerate(complex_width):\n",
    "    print(complex_width_)\n",
    "    tab_num = \"tab\" + str(idx)\n",
    "    # print(tab_num)\n",
    "    width_btn = driver.find_element(By.XPATH, f'//*[@id=\"{tab_num}\"]/span')\n",
    "    width_btn.click()\n",
    "        \n",
    "    # 매매 수\n",
    "    sales_count = driver.find_element(By.XPATH, '//*[@id=\"tabpanel\"]/table/tbody/tr[5]/td/a[1]/span')\n",
    "    sales_count_str = sales_count.text\n",
    "\n",
    "    # 전세 수\n",
    "    lease_count = driver.find_element(By.XPATH, '//*[@id=\"tabpanel\"]/table/tbody/tr[5]/td/a[2]/span')\n",
    "    lease_count_str = lease_count.text\n",
    "    \n",
    "    # 월세 수\n",
    "    monthly_rent_count = driver.find_element(By.XPATH, '//*[@id=\"tabpanel\"]/table/tbody/tr[5]/td/a[3]/span')\n",
    "    monthly_rent_count_str = monthly_rent_count.text\n",
    "\n",
    "    # 단기 수\n",
    "    short_term_rent_count = driver.find_element(By.XPATH, '//*[@id=\"tabpanel\"]/table/tbody/tr[5]/td/a[4]/span')\n",
    "    short_term_rent_count_str = short_term_rent_count.text\n",
    "\n",
    "    width_sales_res = {\n",
    "        \"complex_width\": complex_width_,\n",
    "        \"sales_count\": sales_count_str,\n",
    "        \"lease_count\": lease_count_str,\n",
    "        \"monthly_rent_count\": monthly_rent_count_str,\n",
    "        \"short_term_rent_count\": short_term_rent_count_str,            \n",
    "\n",
    "    }"
   ]
  },
  {
   "cell_type": "code",
   "execution_count": 67,
   "metadata": {},
   "outputs": [
    {
     "data": {
      "text/plain": [
       "{'complex_width': '8',\n",
       " 'sales_count': '7',\n",
       " 'lease_count': '0',\n",
       " 'monthly_rent_count': '0',\n",
       " 'short_term_rent_count': '0'}"
      ]
     },
     "execution_count": 67,
     "metadata": {},
     "output_type": "execute_result"
    }
   ],
   "source": [
    "width_sales_res"
   ]
  },
  {
   "cell_type": "code",
   "execution_count": 68,
   "metadata": {},
   "outputs": [
    {
     "data": {
      "text/plain": [
       "'8'"
      ]
     },
     "execution_count": 68,
     "metadata": {},
     "output_type": "execute_result"
    }
   ],
   "source": [
    "complex_width"
   ]
  },
  {
   "cell_type": "code",
   "execution_count": null,
   "metadata": {},
   "outputs": [],
   "source": []
  }
 ],
 "metadata": {
  "kernelspec": {
   "display_name": "venv",
   "language": "python",
   "name": "python3"
  },
  "language_info": {
   "codemirror_mode": {
    "name": "ipython",
    "version": 3
   },
   "file_extension": ".py",
   "mimetype": "text/x-python",
   "name": "python",
   "nbconvert_exporter": "python",
   "pygments_lexer": "ipython3",
   "version": "3.10.10"
  }
 },
 "nbformat": 4,
 "nbformat_minor": 2
}
