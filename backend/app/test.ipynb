{
 "cells": [
  {
   "cell_type": "code",
   "execution_count": 1,
   "metadata": {},
   "outputs": [],
   "source": [
    "### load package\n",
    "from selenium import webdriver\n",
    "from selenium.webdriver.common.keys import Keys\n",
    "from selenium.webdriver.common.by import By\n",
    "import time\n",
    "import re\n",
    "from sqlalchemy.orm import Session\n",
    "from datetime import datetime\n",
    "from database import SessionLocal\n"
   ]
  },
  {
   "cell_type": "code",
   "execution_count": 2,
   "metadata": {},
   "outputs": [],
   "source": [
    "def make_url(complex_id):\n",
    "    complex_id = complex_id\n",
    "    url = f\"https://new.land.naver.com/complexes/{complex_id}?ms=37.498319,127.0413807,16&a=APT:PRE:ABYG:JGC&e=RETAIL&ad=true\"\n",
    "    return url"
   ]
  },
  {
   "cell_type": "code",
   "execution_count": 3,
   "metadata": {},
   "outputs": [
    {
     "name": "stdout",
     "output_type": "stream",
     "text": [
      "https://new.land.naver.com/complexes/1109?ms=37.498319,127.0413807,16&a=APT:PRE:ABYG:JGC&e=RETAIL&ad=true\n"
     ]
    }
   ],
   "source": [
    "complex_id = 1109\n",
    "url = make_url(complex_id)\n",
    "print(url)"
   ]
  },
  {
   "cell_type": "code",
   "execution_count": 4,
   "metadata": {},
   "outputs": [],
   "source": [
    "driver = webdriver.Chrome()"
   ]
  },
  {
   "cell_type": "code",
   "execution_count": 5,
   "metadata": {},
   "outputs": [],
   "source": [
    "driver.get(url)\n"
   ]
  },
  {
   "cell_type": "code",
   "execution_count": 6,
   "metadata": {},
   "outputs": [],
   "source": [
    "time.sleep(5)"
   ]
  },
  {
   "cell_type": "code",
   "execution_count": 15,
   "metadata": {},
   "outputs": [],
   "source": [
    "# 단지명\n",
    "complex_name = driver.find_element(By.XPATH, '//*[@id=\"complexTitle\"]')\n",
    "complex_name_str = complex_name.text"
   ]
  },
  {
   "cell_type": "code",
   "execution_count": 16,
   "metadata": {},
   "outputs": [
    {
     "data": {
      "text/plain": [
       "'중계주공2단지'"
      ]
     },
     "execution_count": 16,
     "metadata": {},
     "output_type": "execute_result"
    }
   ],
   "source": [
    "complex_name_str"
   ]
  },
  {
   "cell_type": "code",
   "execution_count": 7,
   "metadata": {},
   "outputs": [],
   "source": [
    "complex_btn = driver.find_element(By.CLASS_NAME, 'complex_link')"
   ]
  },
  {
   "cell_type": "code",
   "execution_count": 8,
   "metadata": {},
   "outputs": [],
   "source": [
    "complex_btn.click()"
   ]
  },
  {
   "cell_type": "code",
   "execution_count": 12,
   "metadata": {},
   "outputs": [],
   "source": [
    "# 세대수\n",
    "complex_num = driver.find_element(By.XPATH, '//*[@id=\"detailContents1\"]/div[1]/table/tbody/tr[1]/td[1]')\n",
    "complex_num_str = complex_num.text"
   ]
  },
  {
   "cell_type": "code",
   "execution_count": 17,
   "metadata": {},
   "outputs": [],
   "source": [
    "# 건설사\n",
    "complex_company = driver.find_element(By.XPATH, '//*[@id=\"detailContents1\"]/div[1]/table/tbody/tr[4]/td')\n",
    "complex_company_str = complex_company.text"
   ]
  },
  {
   "cell_type": "code",
   "execution_count": 19,
   "metadata": {},
   "outputs": [],
   "source": [
    "# 주소\n",
    "complex_addr = driver.find_element(By.XPATH, '//*[@id=\"detailContents1\"]/div[1]/table/tbody/tr[7]/td/p[1]')\n",
    "complex_addr_str = complex_addr.text"
   ]
  },
  {
   "cell_type": "code",
   "execution_count": 21,
   "metadata": {},
   "outputs": [],
   "source": [
    "### 전체 평수 구하기 함수\n",
    "def all_width_make(driver):\n",
    "    detail_sorting_width = driver.find_element(By.XPATH, '//*[@id=\"detailContents1\"]/div[1]/table/tbody/tr[8]/td/div/div')\n",
    "    all_width_str = detail_sorting_width.text\n",
    "    width_list = [item.strip() for item in all_width_str.split(',')]\n",
    "    try:\n",
    "        driver.find_element(By.XPATH, '//*[@id=\"detailContents1\"]/div[2]/div[2]/div/div[2]/button').click()\n",
    "    except:\n",
    "        pass\n",
    "    return width_list"
   ]
  },
  {
   "cell_type": "code",
   "execution_count": 22,
   "metadata": {},
   "outputs": [
    {
     "data": {
      "text/plain": [
       "['59㎡']"
      ]
     },
     "execution_count": 22,
     "metadata": {},
     "output_type": "execute_result"
    }
   ],
   "source": [
    "all_width_make(driver)"
   ]
  },
  {
   "cell_type": "code",
   "execution_count": 25,
   "metadata": {},
   "outputs": [],
   "source": [
    "def complex_info_search(complex_id):\n",
    "    info_result = {}\n",
    "\n",
    "    url = make_url(complex_id)\n",
    "\n",
    "    driver = webdriver.Chrome()\n",
    "    driver.get(url)\n",
    "    time.sleep(5)\n",
    "\n",
    "    # 단지명\n",
    "    complex_name = driver.find_element(By.XPATH, '//*[@id=\"complexTitle\"]')\n",
    "    complex_name_str = complex_name.text\n",
    "\n",
    "    # 단지정보 열기\n",
    "    complex_btn = driver.find_element(By.CLASS_NAME, 'complex_link')\n",
    "    complex_btn.click()\n",
    "    time.sleep(1)\n",
    "\n",
    "    # 세대수\n",
    "    complex_num = driver.find_element(By.XPATH, '//*[@id=\"detailContents1\"]/div[1]/table/tbody/tr[1]/td[1]')\n",
    "    complex_num_str = complex_num.text    \n",
    "\n",
    "    # 건설사\n",
    "    complex_company = driver.find_element(By.XPATH, '//*[@id=\"detailContents1\"]/div[1]/table/tbody/tr[4]/td')\n",
    "    complex_company_str = complex_company.text\n",
    "\n",
    "    # 주소\n",
    "    complex_addr = driver.find_element(By.XPATH, '//*[@id=\"detailContents1\"]/div[1]/table/tbody/tr[7]/td/p[1]')\n",
    "    complex_addr_str = complex_addr.text\n",
    "\n",
    "    # 평수\n",
    "    complex_width = all_width_make(driver)\n",
    "\n",
    "    info_result[complex_id] = {\n",
    "        \"complex_name\": complex_name_str,\n",
    "        \"complex_num\": complex_num_str,\n",
    "        \"complex_company\": complex_company_str,\n",
    "        \"complex_addr\": complex_addr_str,\n",
    "        \"complex_width\": complex_width\n",
    "    }\n",
    "\n",
    "    return info_result"
   ]
  },
  {
   "cell_type": "code",
   "execution_count": 26,
   "metadata": {},
   "outputs": [
    {
     "data": {
      "text/plain": [
       "{'1109': {'complex_name': '중계주공2단지',\n",
       "  'complex_num': '1800세대(총10개동)',\n",
       "  'complex_company': '한진종합건설(주)외',\n",
       "  'complex_addr': '서울시 노원구 중계동 369',\n",
       "  'complex_width': ['59㎡']}}"
      ]
     },
     "execution_count": 26,
     "metadata": {},
     "output_type": "execute_result"
    }
   ],
   "source": [
    "complex_id = \"1109\"\n",
    "complex_info_search(complex_id)"
   ]
  },
  {
   "cell_type": "code",
   "execution_count": null,
   "metadata": {},
   "outputs": [],
   "source": []
  }
 ],
 "metadata": {
  "kernelspec": {
   "display_name": "venv",
   "language": "python",
   "name": "python3"
  },
  "language_info": {
   "codemirror_mode": {
    "name": "ipython",
    "version": 3
   },
   "file_extension": ".py",
   "mimetype": "text/x-python",
   "name": "python",
   "nbconvert_exporter": "python",
   "pygments_lexer": "ipython3",
   "version": "3.10.11"
  }
 },
 "nbformat": 4,
 "nbformat_minor": 2
}
